{
 "cells": [
  {
   "cell_type": "code",
   "execution_count": 53,
   "metadata": {},
   "outputs": [],
   "source": [
    "import os\n",
    "import time\n",
    "import scipy\n",
    "import netCDF4\n",
    "import numpy as np"
   ]
  },
  {
   "cell_type": "markdown",
   "metadata": {},
   "source": [
    "# Constants"
   ]
  },
  {
   "cell_type": "code",
   "execution_count": 54,
   "metadata": {},
   "outputs": [],
   "source": [
    "paths = {}\n",
    "paths[\"AICE\"] = \"/lustre/storeB/project/fou/hi/oper/aice/archive/\"\n",
    "paths[\"Barents\"] = \"/lustre/storeB/project/copernicus/cosi/PCAPS/Barents_AICE_grid/\"\n",
    "paths[\"ice_charts\"] = \"/lustre/storeB/project/copernicus/cosi/WP3/Operational/Ice_charts/\"\n",
    "paths[\"output\"] = \"/lustre/storeB/project/copernicus/cosi/AICE/Data/Distance_to_land/\""
   ]
  },
  {
   "cell_type": "markdown",
   "metadata": {},
   "source": [
    "# Make common land sea mask"
   ]
  },
  {
   "cell_type": "code",
   "execution_count": 55,
   "metadata": {},
   "outputs": [],
   "source": [
    "class make_common_land_sea_mask():\n",
    "    def __init__(self, paths, date_task):\n",
    "        self.paths = paths\n",
    "        self.date_task = date_task\n",
    "\n",
    "    def load_AICE(self):\n",
    "        AICE = {}\n",
    "        filename = self.paths[\"AICE\"] + \"AICE_forecasts_\" + self.date_task + \"T000000Z.nc\"\n",
    "        with netCDF4.Dataset(filename, \"r\") as nc:\n",
    "            for var in nc.variables:\n",
    "                AICE[var] = nc.variables[var][:]\n",
    "        return AICE\n",
    "\n",
    "    def load_Barents(self):\n",
    "        Barents = {}\n",
    "        filename = self.paths[\"Barents\"] + self.date_task[0:4] + \"/\" + self.date_task[4:6] + \"/\" + \"Barents_on_AICE_grid_\" + self.date_task + \".nc\"\n",
    "        with netCDF4.Dataset(filename, \"r\") as nc:\n",
    "            for var in nc.variables:\n",
    "                Barents[var] = nc.variables[var][:]\n",
    "        return Barents\n",
    "\n",
    "    def load_ice_charts(self):\n",
    "        Ice_charts = {}\n",
    "        filename = self.paths[\"ice_charts\"] + self.date_task[0:4] + \"/\" + self.date_task[4:6] + \"/\" + \"Ice_charts_AICE_grid_\" + self.date_task + \".nc\"\n",
    "        with netCDF4.Dataset(filename, \"r\") as nc:\n",
    "            for var in nc.variables:\n",
    "                Ice_charts[var] = nc.variables[var][:]\n",
    "        return Ice_charts\n",
    "    \n",
    "    def make_land_sea_mask(self):\n",
    "        AICE = self.load_AICE()\n",
    "        Barents = self.load_Barents()\n",
    "        Ice_charts = self.load_ice_charts()\n",
    "\n",
    "        LSM_Barents = Barents[\"sea_mask\"]\n",
    "        LSM_AICE = np.ones(np.shape(AICE[\"SIC\"][0,:,:]))\n",
    "        LSM_AICE[np.isnan(AICE[\"SIC\"][0,:,:]) == True] = 0\n",
    "        LSM_ice_charts = np.ones(np.shape(Ice_charts[\"SIC\"][0,:,:]))\n",
    "        LSM_ice_charts[np.isnan(Ice_charts[\"SIC\"][0,:,:]) == True] = 0\n",
    "\n",
    "        LSM = np.zeros(np.shape(LSM_AICE))\n",
    "        LSM[np.logical_and(LSM_ice_charts == 1, np.logical_and(LSM_Barents == 1, LSM_AICE == 1))] = 1\n",
    "\n",
    "        return LSM\n",
    "\n",
    "    def get_spatial_resolution(self, AICE):\n",
    "        spatial_resolution = np.abs(AICE[\"x\"][1] - AICE[\"x\"][0])\n",
    "        return spatial_resolution\n",
    "\n",
    "    def calculate_distance_to_land(self, LSM, spatial_resolution):\n",
    "        distance_to_land = scipy.ndimage.distance_transform_edt(LSM) * spatial_resolution\n",
    "        return distance_to_land\n",
    "\n",
    "    def __call__(self):\n",
    "        AICE = self.load_AICE()\n",
    "        LSM = self.make_land_sea_mask()\n",
    "        spatial_resolution = self.get_spatial_resolution(AICE= AICE)\n",
    "        distance_to_land = self.calculate_distance_to_land(LSM = LSM, spatial_resolution = spatial_resolution)\n",
    "        return(AICE, LSM, distance_to_land)"
   ]
  },
  {
   "cell_type": "markdown",
   "metadata": {},
   "source": [
    "# Write netCDF output"
   ]
  },
  {
   "cell_type": "code",
   "execution_count": 56,
   "metadata": {},
   "outputs": [],
   "source": [
    "def write_netCDF(AICE, LSM, distance_to_land, paths):\n",
    "    output_filename = paths[\"output\"] + \"AICE_LSM_distance_to_land.nc\"\n",
    "    if os.path.isfile(output_filename):\n",
    "        os.system(\"rm \" + output_filename)\n",
    "\n",
    "    with netCDF4.Dataset(str(output_filename), \"w\", format = \"NETCDF4\") as output_netcdf:\n",
    "        proj4 = output_netcdf.createDimension(\"proj4\", 1)\n",
    "        x = output_netcdf.createDimension(\"x\", len(AICE[\"x\"]))\n",
    "        y = output_netcdf.createDimension(\"y\", len(AICE[\"y\"]))\n",
    "\n",
    "        Outputs = vars()\n",
    "\n",
    "        Outputs[\"proj4\"] = output_netcdf.createVariable(\"proj4\", \"S1\", (\"proj4\"))\n",
    "        Outputs[\"proj4\"].long_name = \"+ellps=WGS84 +lat_0=90 +lon_0=0 +no_defs=None +proj=laea +type=crs +units=m +x_0=0 +y_0=0\"\n",
    "\n",
    "        Outputs[\"x\"] = output_netcdf.createVariable(\"x\", \"d\", (\"x\"))\n",
    "        Outputs[\"x\"][:] = np.copy(AICE[\"x\"])\n",
    "        Outputs[\"x\"].units = \"m\"\n",
    "        Outputs[\"x\"].standard_name = \"projection_x_coordinate\"\n",
    "\n",
    "        Outputs[\"y\"] = output_netcdf.createVariable(\"y\", \"d\", (\"y\"))\n",
    "        Outputs[\"y\"][:] = np.copy(AICE[\"y\"])\n",
    "        Outputs[\"y\"].units = \"m\"\n",
    "        Outputs[\"y\"].standard_name = \"projection_y_coordinate\"\n",
    "\n",
    "        Outputs[\"LSM\"] = output_netcdf.createVariable(\"LSM\", \"d\", (\"y\", \"x\"))\n",
    "        Outputs[\"LSM\"][:,:] = np.copy(LSM)\n",
    "        Outputs[\"LSM\"].units = \"0: land, 1: ocean\"\n",
    "        Outputs[\"LSM\"].standard_name = \"Land sea mask\"\n",
    "\n",
    "        Outputs[\"distance_to_land\"] = output_netcdf.createVariable(\"distance_to_land\", \"d\", (\"y\", \"x\"))\n",
    "        Outputs[\"distance_to_land\"][:,:] = np.copy(distance_to_land)\n",
    "        Outputs[\"distance_to_land\"].units = \"m\"\n",
    "        Outputs[\"distance_to_land\"].standard_name = \"Distance to the nearest land grid point\"\n"
   ]
  },
  {
   "cell_type": "markdown",
   "metadata": {},
   "source": [
    "# Main"
   ]
  },
  {
   "cell_type": "code",
   "execution_count": 57,
   "metadata": {},
   "outputs": [
    {
     "name": "stdout",
     "output_type": "stream",
     "text": [
      "Computing time:  0.7889895439147949\n"
     ]
    }
   ],
   "source": [
    "t0 = time.time()\n",
    "AICE, LSM, distance_to_land = make_common_land_sea_mask(paths = paths, date_task = \"20250102\")()\n",
    "write_netCDF(AICE = AICE, LSM = LSM, distance_to_land = distance_to_land, paths = paths)\n",
    "tf = time.time()\n",
    "print(\"Computing time: \", tf - t0)"
   ]
  }
 ],
 "metadata": {
  "kernelspec": {
   "display_name": "production-08-2024",
   "language": "python",
   "name": "python3"
  },
  "language_info": {
   "codemirror_mode": {
    "name": "ipython",
    "version": 3
   },
   "file_extension": ".py",
   "mimetype": "text/x-python",
   "name": "python",
   "nbconvert_exporter": "python",
   "pygments_lexer": "ipython3",
   "version": "3.9.13"
  }
 },
 "nbformat": 4,
 "nbformat_minor": 2
}
