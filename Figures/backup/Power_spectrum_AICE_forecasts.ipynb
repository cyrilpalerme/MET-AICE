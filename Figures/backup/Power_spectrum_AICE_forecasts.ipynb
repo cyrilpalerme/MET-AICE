{
 "cells": [
  {
   "cell_type": "code",
   "execution_count": 39,
   "metadata": {},
   "outputs": [],
   "source": [
    "import scipy\n",
    "import netCDF4\n",
    "import datetime\n",
    "import cmocean\n",
    "import numpy as np\n",
    "import matplotlib\n",
    "import matplotlib.pyplot as plt\n",
    "from matplotlib.colors import BoundaryNorm\n",
    "import cartopy\n",
    "import cartopy.crs as ccrs\n",
    "import cartopy.feature as cpf\n",
    "from cartopy.feature import NaturalEarthFeature, LAND, COASTLINE"
   ]
  },
  {
   "cell_type": "markdown",
   "metadata": {},
   "source": [
    "# Constants"
   ]
  },
  {
   "cell_type": "code",
   "execution_count": 40,
   "metadata": {},
   "outputs": [],
   "source": [
    "sizefont = 20\n",
    "sizefont_legend = 20\n",
    "date_task = \"20240421\"\n",
    "#\n",
    "paths = {}\n",
    "paths[\"AICE\"] = \"/lustre/storeB/project/fou/hi/oper/aice/archive/\"\n",
    "paths[\"output\"] = \"/lustre/storeB/users/cyrilp/AICE/Figures/Paper/\"\n",
    "#\n",
    "xmin = 274\n",
    "xmax = 364\n",
    "ymin = 154\n",
    "ymax = 244\n",
    "#\n",
    "lead_times = [0, 4, 9]\n",
    "#\n",
    "spatial_resolution = 5000\n",
    "#\n",
    "map_params = {\"LAND_highres\": cpf.NaturalEarthFeature(\"physical\", \"land\", \"50m\", edgecolor = \"face\", facecolor = \"tan\", linewidth = 0.1),\n",
    "              \"map_extent\": (15, 50, 78, 80),\n",
    "              \"map_proj\": ccrs.LambertAzimuthalEqualArea(central_longitude = 0, central_latitude = 79, false_easting = 0.0, false_northing = 0.0, globe = None),\n",
    "              \"levels\": np.linspace(0, 100, 21),\n",
    "              \"norm\": BoundaryNorm(np.linspace(0, 100, 21), 256),\n",
    "              \"colormap\": plt.cm.cubehelix}"
   ]
  },
  {
   "cell_type": "markdown",
   "metadata": {},
   "source": [
    "# Read_data"
   ]
  },
  {
   "cell_type": "code",
   "execution_count": 41,
   "metadata": {},
   "outputs": [],
   "source": [
    "def read_AICE(date_task, paths, xmin, xmax, ymin, ymax):\n",
    "    Dataset = {}\n",
    "    filename = paths[\"AICE\"] + \"AICE_forecasts_\" + date_task + \"T000000Z.nc\"\n",
    "    with netCDF4.Dataset(filename, \"r\") as nc:\n",
    "        for var in nc.variables:\n",
    "            if var == \"x\":\n",
    "                Dataset[var] = nc.variables[var][xmin:xmax]\n",
    "            elif var == \"y\":\n",
    "                Dataset[var] = nc.variables[var][ymin:ymax]\n",
    "            elif var == \"lat\" or var == \"lon\":\n",
    "                Dataset[var] = nc.variables[var][ymin:ymax, xmin:xmax]\n",
    "            elif var == \"SIC\":\n",
    "                Dataset[var] = nc.variables[var][:, ymin:ymax, xmin:xmax]\n",
    "                Dataset[var][np.isnan(Dataset[var])] = 0\n",
    "    return Dataset"
   ]
  },
  {
   "cell_type": "markdown",
   "metadata": {},
   "source": [
    "# Spectral variance"
   ]
  },
  {
   "cell_type": "code",
   "execution_count": 42,
   "metadata": {},
   "outputs": [],
   "source": [
    "def spectral_variance(sstarr, dx):\n",
    "\n",
    "    dctarr = scipy.fftpack.dct(scipy.fftpack.dct(sstarr, axis = 0, type = 2, norm = \"ortho\"), axis = 1, type = 2, norm = \"ortho\")\n",
    "\n",
    "    Ni = np.shape(dctarr)[1]\n",
    "    Nj = np.shape(dctarr)[0]\n",
    "\n",
    "    Ni_inds, Nj_inds = np.meshgrid(np.arange(Ni), np.arange(Nj))\n",
    "\n",
    "    # Total variance array:\n",
    "    totvar = np.abs(dctarr)**2/(Ni*Nj) # each element on a given circle has the same wavenumber k\n",
    "\n",
    "    vararr = np.zeros(min([Ni, Nj]))\n",
    "    wavelengtharrmin = np.zeros(min([Ni, Nj]))\n",
    "    wavelengtharrmax = np.zeros(min([Ni, Nj]))\n",
    "    wavelengtharrmid = np.zeros(min([Ni, Nj]))\n",
    "\n",
    "    for k in range(1, min([Ni, Nj])):\n",
    "        # For a given k, determine the limits of the contributing band defined by alpha(k) and alpha(k) + delta(alpha(k)):\n",
    "        alphamin = k/min([Ni, Nj])\n",
    "        alphamax = (k+1)/min([Ni, Nj]) # where k = 1, 2, 3, ..., min(N-1)\n",
    "\n",
    "        wavelengtharrmax[k-1] = 2*dx/alphamin\n",
    "        wavelengtharrmin[k-1] = 2*dx/alphamax\n",
    "        #wavelengtharrmid[k-1] = (wavelengtharrmin[k] + wavelengtharrmax[k])/2\n",
    "\n",
    "        alpha_m = np.sqrt((Ni_inds**2/Ni**2) + (Nj_inds**2/Nj**2))\n",
    "\n",
    "        a, b = weights(alphamin, alphamax, alpha_m)\n",
    "\n",
    "        #vararr[k] = np.sum(totvar,  where = (alpha_m >= alphamin) & (alpha_m <= alphamax))\n",
    "        vararr[k-1] += np.sum(a*totvar,  where = (alpha_m >= alphamin) & (alpha_m < alphamax))\n",
    "\n",
    "        vararr[k] += np.sum(b*totvar,  where = (alpha_m >= alphamin) & (alpha_m < alphamax))\n",
    "\n",
    "        if np.any(x < 0 for x in np.where((alpha_m >= alphamin) & (alpha_m < alphamax), a*totvar, 0)) == True:\n",
    "            print('Negative values used, stop!')\n",
    "            sys.exit()\n",
    "        if np.any(x < 0 for x in np.where((alpha_m >= alphamin) & (alpha_m < alphamax), b*totvar, 0)) == True:\n",
    "            print('Negative values used, stop!')\n",
    "            sys.exit()\n",
    "        # For each element in the variance array, compute alpha and add its contribution to the variance if alphamin <= alpha <= alphamax:\n",
    "        ##for m in range(Ni):\n",
    "         ##   for n in range(Nj):\n",
    "                ##alpha = np.sqrt((m**2/Ni**2) + (n**2/Nj**2))\n",
    "         ##       if alpha >= alphamin and alpha <= alphamax:\n",
    "         ##           vararr[k] += totvar[n, m]\n",
    "    return(wavelengtharrmax, vararr)\n",
    "\n",
    "def weights(alpha_k, alpha_kp1, alpha_mn):\n",
    "    \"\"\" From Ricard et al. (2013)\"\"\"\n",
    "    a = (alpha_mn - alpha_k)/(alpha_kp1 - alpha_k)\n",
    "    b = (alpha_kp1 - alpha_mn)/(alpha_kp1 - alpha_k)\n",
    "    return(a, b)"
   ]
  },
  {
   "cell_type": "markdown",
   "metadata": {},
   "source": [
    "# Make figure power spectrum"
   ]
  },
  {
   "cell_type": "code",
   "execution_count": 43,
   "metadata": {},
   "outputs": [],
   "source": [
    "def make_power_spectrum(spatial_frequencies_1, amplitude_bins_1, sizefont, sizefont_legend, lead_times, map_params, date_task, paths, saving = False):\n",
    "    colorscale = plt.cm.gnuplot\n",
    "    colors = colorscale(np.linspace(0, 1, 11))\n",
    "    labels_fig = [\"a)\", \"b)\", \"c)\", \"d)\"]\n",
    "    #\n",
    "    plt.rc(\"xtick\", labelsize = sizefont)\n",
    "    plt.rc(\"ytick\", labelsize = sizefont)\n",
    "    fig, ax = plt.subplots(3, 2, figsize = (22, 15), facecolor = \"w\", edgecolor = \"k\")\n",
    "\n",
    "    for lti, leadtime in enumerate(lead_times):\n",
    "        print(lti, leadtime)\n",
    "        date_lt = (datetime.datetime.strptime(date_task, \"%Y%m%d\") + datetime.timedelta(days = int(leadtime))).strftime(\"%Y%m%d\")\n",
    "        ax = plt.subplot(3, 2, lti * 2 + 1, projection = map_params[\"map_proj\"])\n",
    "        ocean_feature = cartopy.feature.NaturalEarthFeature(\"physical\", \"ocean\", \"50m\", edgecolor = \"face\", facecolor = \"black\")\n",
    "        ax.add_feature(ocean_feature, zorder = 0)\n",
    "        ax.set_extent(map_params[\"map_extent\"], crs = cartopy.crs.PlateCarree())\n",
    "        ax.add_feature(map_params[\"LAND_highres\"], zorder = 1)\n",
    "        cs = ax.pcolormesh(Dataset[\"lon\"], Dataset[\"lat\"], Dataset[\"SIC\"][leadtime,0:-1,0:-1], transform = ccrs.PlateCarree(), norm = map_params[\"norm\"], cmap = map_params[\"colormap\"], zorder = 0, shading = \"flat\")\n",
    "        if leadtime == 0:\n",
    "            ax.set_title(\"MET-AICE \" + date_lt[6:8] + \"-\" + date_lt[4:6] + \"-\" + date_lt[0:4] + \"\\n lead time: \" + str(leadtime + 1) + \" day\", fontsize = sizefont)\n",
    "        else:\n",
    "            ax.set_title(\"MET-AICE \" + date_lt[6:8] + \"-\" + date_lt[4:6] + \"-\" + date_lt[0:4] + \"\\n lead time: \" + str(leadtime + 1) + \" days\", fontsize = sizefont)\n",
    "        ax.text(-0.1, 0, labels_fig[lti], fontsize = sizefont, ha = \"left\", transform = ax.transAxes) \n",
    "\n",
    "    ax = plt.subplot(3,2,(2,6))\n",
    "    for lt in lead_times:\n",
    "        if lt == 0:\n",
    "            l = ax.plot(spatial_frequencies_1[str(lt)], amplitude_bins_1[str(lt)], color = colors[lt], marker = \".\", linewidth = 1.5, label = \"Lead time: \" + str(lt + 1) + \" day\", alpha = 1)\n",
    "        else:\n",
    "            l = ax.plot(spatial_frequencies_1[str(lt)], amplitude_bins_1[str(lt)], color = colors[lt], marker = \".\", linewidth = 1.5, label = \"Lead time: \" +str(lt + 1) + \" days\", alpha = 1)\n",
    "    ax.invert_xaxis()\n",
    "    ax.set_xlabel(\"Wavelength (m)\", fontsize = sizefont)\n",
    "    ax.set_ylabel(\"Power\", fontsize = sizefont)\n",
    "    ax.set_title(\"Power Spectrum\", fontsize = sizefont)\n",
    "    ax.set_xscale(\"log\")\n",
    "    ax.set_yscale(\"log\")\n",
    "    ax.legend(fontsize = sizefont_legend)\n",
    "    ax.text(-0.1, 0, labels_fig[3], fontsize = sizefont, ha = \"left\", transform = ax.transAxes) \n",
    "    #\n",
    "    cbar_ax_1 = fig.add_axes([0.415, 0.16, 0.03, 0.7])\n",
    "    cbar_1 = fig.colorbar(cs, cax = cbar_ax_1, ticks = map_params[\"levels\"], orientation = \"vertical\", extend = None)\n",
    "    cbar_1.set_label(\"Sea ice concentration (%)\", fontsize = sizefont)\n",
    "    \n",
    "    if saving == True:\n",
    "        plt.savefig(paths[\"output\"] + \"Power_spectrum_AICE_\" + date_task + \".png\", bbox_inches = \"tight\", dpi = 300)\n",
    "    else:\n",
    "        plt.show()"
   ]
  },
  {
   "cell_type": "markdown",
   "metadata": {},
   "source": [
    "# Data processing"
   ]
  },
  {
   "cell_type": "code",
   "execution_count": null,
   "metadata": {},
   "outputs": [
    {
     "name": "stdout",
     "output_type": "stream",
     "text": [
      "0 0\n",
      "1 4\n",
      "2 9\n"
     ]
    },
    {
     "name": "stderr",
     "output_type": "stream",
     "text": [
      "/tmp/ipykernel_357334/4165125157.py:13: MatplotlibDeprecationWarning: Auto-removal of overlapping axes is deprecated since 3.6 and will be removed two minor releases later; explicitly call ax.remove() as needed.\n",
      "  ax = plt.subplot(3, 2, lti * 2 + 1, projection = map_params[\"map_proj\"])\n",
      "/tmp/ipykernel_357334/4165125157.py:13: MatplotlibDeprecationWarning: Auto-removal of overlapping axes is deprecated since 3.6 and will be removed two minor releases later; explicitly call ax.remove() as needed.\n",
      "  ax = plt.subplot(3, 2, lti * 2 + 1, projection = map_params[\"map_proj\"])\n",
      "/tmp/ipykernel_357334/4165125157.py:13: MatplotlibDeprecationWarning: Auto-removal of overlapping axes is deprecated since 3.6 and will be removed two minor releases later; explicitly call ax.remove() as needed.\n",
      "  ax = plt.subplot(3, 2, lti * 2 + 1, projection = map_params[\"map_proj\"])\n",
      "/tmp/ipykernel_357334/4165125157.py:25: MatplotlibDeprecationWarning: Auto-removal of overlapping axes is deprecated since 3.6 and will be removed two minor releases later; explicitly call ax.remove() as needed.\n",
      "  ax = plt.subplot(3,2,(2,6))\n"
     ]
    }
   ],
   "source": [
    "Dataset = read_AICE(date_task, paths, xmin, xmax, ymin, ymax)\n",
    "wavelengtharrmax_1 = {}\n",
    "vararr_1 = {}\n",
    "for lt in range(0, 10):\n",
    "    wavelengtharrmax_1[str(lt)], vararr_1[str(lt)] = spectral_variance(Dataset[\"SIC\"][lt,:,:], spatial_resolution)\n",
    "\n",
    "make_power_spectrum(wavelengtharrmax_1, vararr_1, sizefont = sizefont, sizefont_legend = sizefont_legend, lead_times = lead_times, map_params = map_params, date_task = date_task, paths = paths, saving = True)"
   ]
  }
 ],
 "metadata": {
  "kernelspec": {
   "display_name": "production-08-2024",
   "language": "python",
   "name": "python3"
  },
  "language_info": {
   "codemirror_mode": {
    "name": "ipython",
    "version": 3
   },
   "file_extension": ".py",
   "mimetype": "text/x-python",
   "name": "python",
   "nbconvert_exporter": "python",
   "pygments_lexer": "ipython3",
   "version": "3.9.13"
  }
 },
 "nbformat": 4,
 "nbformat_minor": 2
}
